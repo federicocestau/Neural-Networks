{
 "cells": [
  {
   "cell_type": "code",
   "execution_count": 1,
   "id": "697330a0",
   "metadata": {},
   "outputs": [],
   "source": [
    "import pandas as pd\n",
    "import numpy as np"
   ]
  },
  {
   "cell_type": "code",
   "execution_count": 2,
   "id": "8e9096af",
   "metadata": {},
   "outputs": [],
   "source": [
    "df = pd.read_csv('C:/Users/Admin/Machine Learning chapter 5/Deep Learning basics with Python/ASTRO_IMAGING_HST_OPTICAL17.csv')\n",
    "df_2 = pd.read_csv('C:/Users/Admin/Machine Learning chapter 5/Deep Learning basics with Python/ASTRO_IMAGING_HST_OPTICAL8.csv')\n",
    "df_3 = pd.read_csv('C:/Users/Admin/Machine Learning chapter 5/Deep Learning basics with Python/ASTRO_IMAGING_HST_OPTICAL13.csv')\n",
    "df_4 = pd.read_csv ('C:/Users/Admin/Machine Learning chapter 5/Deep Learning basics with Python/ASTRO_IMAGING_HST_OPTICAL5.csv')\n",
    "df_5 = pd.read_csv('C:/Users/Admin/Machine Learning chapter 5/Deep Learning basics with Python/ASTRO_IMAGING_HST_OPTICAL12.csv')"
   ]
  },
  {
   "cell_type": "code",
   "execution_count": 3,
   "id": "affc1557",
   "metadata": {},
   "outputs": [
    {
     "data": {
      "text/html": [
       "<div>\n",
       "<style scoped>\n",
       "    .dataframe tbody tr th:only-of-type {\n",
       "        vertical-align: middle;\n",
       "    }\n",
       "\n",
       "    .dataframe tbody tr th {\n",
       "        vertical-align: top;\n",
       "    }\n",
       "\n",
       "    .dataframe thead th {\n",
       "        text-align: right;\n",
       "    }\n",
       "</style>\n",
       "<table border=\"1\" class=\"dataframe\">\n",
       "  <thead>\n",
       "    <tr style=\"text-align: right;\">\n",
       "      <th></th>\n",
       "      <th>postcard_url</th>\n",
       "      <th>product_url</th>\n",
       "      <th>observation_id</th>\n",
       "      <th>ra_deg</th>\n",
       "      <th>dec_deg</th>\n",
       "      <th>target_name</th>\n",
       "      <th>instrument_name</th>\n",
       "      <th>collection</th>\n",
       "      <th>filter</th>\n",
       "      <th>start_time</th>\n",
       "      <th>exposure_duration</th>\n",
       "      <th>stc_s</th>\n",
       "      <th>end_time</th>\n",
       "      <th>observation_oid</th>\n",
       "    </tr>\n",
       "  </thead>\n",
       "  <tbody>\n",
       "    <tr>\n",
       "      <th>0</th>\n",
       "      <td>http://archives.esac.esa.int/ehst-sl-server/se...</td>\n",
       "      <td>http://archives.esac.esa.int/ehst-sl-server/se...</td>\n",
       "      <td>hst_07909_rb_wfpc2_f606w_pc</td>\n",
       "      <td>266.275245</td>\n",
       "      <td>-28.941184</td>\n",
       "      <td>ANY</td>\n",
       "      <td>WFPC2</td>\n",
       "      <td>HLA</td>\n",
       "      <td>F606W</td>\n",
       "      <td>1998-08-13 11:59:14.11</td>\n",
       "      <td>2200.0</td>\n",
       "      <td>POLYGON J2000 266.275620000000004 -28.94818200...</td>\n",
       "      <td>1998-08-13 12:38:14.11</td>\n",
       "      <td>hst_07909_rb_wfpc2_f606w_pc</td>\n",
       "    </tr>\n",
       "    <tr>\n",
       "      <th>1</th>\n",
       "      <td>http://archives.esac.esa.int/ehst-sl-server/se...</td>\n",
       "      <td>http://archives.esac.esa.int/ehst-sl-server/se...</td>\n",
       "      <td>hst_09676_x8_wfpc2_f606w_pc</td>\n",
       "      <td>266.275913</td>\n",
       "      <td>-28.944096</td>\n",
       "      <td>ANY</td>\n",
       "      <td>WFPC2</td>\n",
       "      <td>HLA</td>\n",
       "      <td>F606W</td>\n",
       "      <td>2003-03-13 20:26:17.25</td>\n",
       "      <td>1100.0</td>\n",
       "      <td>POLYGON J2000 266.27582799999999 -28.951051000...</td>\n",
       "      <td>2003-03-13 20:47:17.24</td>\n",
       "      <td>hst_09676_x8_wfpc2_f606w_pc</td>\n",
       "    </tr>\n",
       "    <tr>\n",
       "      <th>2</th>\n",
       "      <td>http://archives.esac.esa.int/ehst-sl-server/se...</td>\n",
       "      <td>http://archives.esac.esa.int/ehst-sl-server/se...</td>\n",
       "      <td>hst_09598_3a_wfpc2_f656n_pc</td>\n",
       "      <td>266.276156</td>\n",
       "      <td>-28.943571</td>\n",
       "      <td>EARTH-CALIB</td>\n",
       "      <td>WFPC2</td>\n",
       "      <td>HLA</td>\n",
       "      <td>F656N</td>\n",
       "      <td>2003-03-13 21:16:17.11</td>\n",
       "      <td>0.7</td>\n",
       "      <td>POLYGON J2000 266.267831000000001 -28.95085500...</td>\n",
       "      <td>2003-03-13 21:18:17.47</td>\n",
       "      <td>hst_09598_3a_wfpc2_f656n_pc</td>\n",
       "    </tr>\n",
       "    <tr>\n",
       "      <th>3</th>\n",
       "      <td>http://archives.esac.esa.int/ehst-sl-server/se...</td>\n",
       "      <td>http://archives.esac.esa.int/ehst-sl-server/se...</td>\n",
       "      <td>hst_09244_9m_wfpc2_f606w_pc</td>\n",
       "      <td>266.279368</td>\n",
       "      <td>-28.944208</td>\n",
       "      <td>ANY</td>\n",
       "      <td>WFPC2</td>\n",
       "      <td>HLA</td>\n",
       "      <td>F606W</td>\n",
       "      <td>2001-03-22 16:03:14.86</td>\n",
       "      <td>2500.0</td>\n",
       "      <td>POLYGON J2000 266.279143999999917 -28.95116100...</td>\n",
       "      <td>2001-03-22 16:47:14.86</td>\n",
       "      <td>hst_09244_9m_wfpc2_f606w_pc</td>\n",
       "    </tr>\n",
       "    <tr>\n",
       "      <th>4</th>\n",
       "      <td>http://archives.esac.esa.int/ehst-sl-server/se...</td>\n",
       "      <td>http://archives.esac.esa.int/ehst-sl-server/se...</td>\n",
       "      <td>hst_07909_rb_wfpc2_f606w_wf</td>\n",
       "      <td>266.265018</td>\n",
       "      <td>-28.941840</td>\n",
       "      <td>ANY</td>\n",
       "      <td>WFPC2</td>\n",
       "      <td>HLA</td>\n",
       "      <td>F606W</td>\n",
       "      <td>1998-08-13 11:59:14.11</td>\n",
       "      <td>2200.0</td>\n",
       "      <td>POLYGON J2000 266.269665999999972 -28.97094800...</td>\n",
       "      <td>1998-08-13 12:38:14.11</td>\n",
       "      <td>hst_07909_rb_wfpc2_f606w_wf</td>\n",
       "    </tr>\n",
       "  </tbody>\n",
       "</table>\n",
       "</div>"
      ],
      "text/plain": [
       "                                        postcard_url  \\\n",
       "0  http://archives.esac.esa.int/ehst-sl-server/se...   \n",
       "1  http://archives.esac.esa.int/ehst-sl-server/se...   \n",
       "2  http://archives.esac.esa.int/ehst-sl-server/se...   \n",
       "3  http://archives.esac.esa.int/ehst-sl-server/se...   \n",
       "4  http://archives.esac.esa.int/ehst-sl-server/se...   \n",
       "\n",
       "                                         product_url  \\\n",
       "0  http://archives.esac.esa.int/ehst-sl-server/se...   \n",
       "1  http://archives.esac.esa.int/ehst-sl-server/se...   \n",
       "2  http://archives.esac.esa.int/ehst-sl-server/se...   \n",
       "3  http://archives.esac.esa.int/ehst-sl-server/se...   \n",
       "4  http://archives.esac.esa.int/ehst-sl-server/se...   \n",
       "\n",
       "                observation_id      ra_deg    dec_deg  target_name  \\\n",
       "0  hst_07909_rb_wfpc2_f606w_pc  266.275245 -28.941184          ANY   \n",
       "1  hst_09676_x8_wfpc2_f606w_pc  266.275913 -28.944096          ANY   \n",
       "2  hst_09598_3a_wfpc2_f656n_pc  266.276156 -28.943571  EARTH-CALIB   \n",
       "3  hst_09244_9m_wfpc2_f606w_pc  266.279368 -28.944208          ANY   \n",
       "4  hst_07909_rb_wfpc2_f606w_wf  266.265018 -28.941840          ANY   \n",
       "\n",
       "  instrument_name collection filter              start_time  \\\n",
       "0           WFPC2        HLA  F606W  1998-08-13 11:59:14.11   \n",
       "1           WFPC2        HLA  F606W  2003-03-13 20:26:17.25   \n",
       "2           WFPC2        HLA  F656N  2003-03-13 21:16:17.11   \n",
       "3           WFPC2        HLA  F606W  2001-03-22 16:03:14.86   \n",
       "4           WFPC2        HLA  F606W  1998-08-13 11:59:14.11   \n",
       "\n",
       "   exposure_duration                                              stc_s  \\\n",
       "0             2200.0  POLYGON J2000 266.275620000000004 -28.94818200...   \n",
       "1             1100.0  POLYGON J2000 266.27582799999999 -28.951051000...   \n",
       "2                0.7  POLYGON J2000 266.267831000000001 -28.95085500...   \n",
       "3             2500.0  POLYGON J2000 266.279143999999917 -28.95116100...   \n",
       "4             2200.0  POLYGON J2000 266.269665999999972 -28.97094800...   \n",
       "\n",
       "                 end_time              observation_oid  \n",
       "0  1998-08-13 12:38:14.11  hst_07909_rb_wfpc2_f606w_pc  \n",
       "1  2003-03-13 20:47:17.24  hst_09676_x8_wfpc2_f606w_pc  \n",
       "2  2003-03-13 21:18:17.47  hst_09598_3a_wfpc2_f656n_pc  \n",
       "3  2001-03-22 16:47:14.86  hst_09244_9m_wfpc2_f606w_pc  \n",
       "4  1998-08-13 12:38:14.11  hst_07909_rb_wfpc2_f606w_wf  "
      ]
     },
     "execution_count": 3,
     "metadata": {},
     "output_type": "execute_result"
    }
   ],
   "source": [
    "df.head()"
   ]
  },
  {
   "cell_type": "markdown",
   "id": "c2140b64",
   "metadata": {},
   "source": [
    "# Merging 5 files together in one dataframe"
   ]
  },
  {
   "cell_type": "code",
   "execution_count": 5,
   "id": "654cec56",
   "metadata": {},
   "outputs": [],
   "source": [
    "frames = [df, df_2, df_3, df_4, df_5, df_5]\n",
    "result = pd.concat(frames)"
   ]
  },
  {
   "cell_type": "code",
   "execution_count": 6,
   "id": "d1eb84bc",
   "metadata": {},
   "outputs": [
    {
     "data": {
      "text/html": [
       "<div>\n",
       "<style scoped>\n",
       "    .dataframe tbody tr th:only-of-type {\n",
       "        vertical-align: middle;\n",
       "    }\n",
       "\n",
       "    .dataframe tbody tr th {\n",
       "        vertical-align: top;\n",
       "    }\n",
       "\n",
       "    .dataframe thead th {\n",
       "        text-align: right;\n",
       "    }\n",
       "</style>\n",
       "<table border=\"1\" class=\"dataframe\">\n",
       "  <thead>\n",
       "    <tr style=\"text-align: right;\">\n",
       "      <th></th>\n",
       "      <th>postcard_url</th>\n",
       "      <th>product_url</th>\n",
       "      <th>observation_id</th>\n",
       "      <th>ra_deg</th>\n",
       "      <th>dec_deg</th>\n",
       "      <th>target_name</th>\n",
       "      <th>instrument_name</th>\n",
       "      <th>collection</th>\n",
       "      <th>filter</th>\n",
       "      <th>start_time</th>\n",
       "      <th>exposure_duration</th>\n",
       "      <th>stc_s</th>\n",
       "      <th>end_time</th>\n",
       "      <th>observation_oid</th>\n",
       "    </tr>\n",
       "  </thead>\n",
       "  <tbody>\n",
       "    <tr>\n",
       "      <th>0</th>\n",
       "      <td>http://archives.esac.esa.int/ehst-sl-server/se...</td>\n",
       "      <td>http://archives.esac.esa.int/ehst-sl-server/se...</td>\n",
       "      <td>hst_07909_rb_wfpc2_f606w_pc</td>\n",
       "      <td>266.275245</td>\n",
       "      <td>-28.941184</td>\n",
       "      <td>ANY</td>\n",
       "      <td>WFPC2</td>\n",
       "      <td>HLA</td>\n",
       "      <td>F606W</td>\n",
       "      <td>1998-08-13 11:59:14.11</td>\n",
       "      <td>2200.0</td>\n",
       "      <td>POLYGON J2000 266.275620000000004 -28.94818200...</td>\n",
       "      <td>1998-08-13 12:38:14.11</td>\n",
       "      <td>hst_07909_rb_wfpc2_f606w_pc</td>\n",
       "    </tr>\n",
       "    <tr>\n",
       "      <th>1</th>\n",
       "      <td>http://archives.esac.esa.int/ehst-sl-server/se...</td>\n",
       "      <td>http://archives.esac.esa.int/ehst-sl-server/se...</td>\n",
       "      <td>hst_09676_x8_wfpc2_f606w_pc</td>\n",
       "      <td>266.275913</td>\n",
       "      <td>-28.944096</td>\n",
       "      <td>ANY</td>\n",
       "      <td>WFPC2</td>\n",
       "      <td>HLA</td>\n",
       "      <td>F606W</td>\n",
       "      <td>2003-03-13 20:26:17.25</td>\n",
       "      <td>1100.0</td>\n",
       "      <td>POLYGON J2000 266.27582799999999 -28.951051000...</td>\n",
       "      <td>2003-03-13 20:47:17.24</td>\n",
       "      <td>hst_09676_x8_wfpc2_f606w_pc</td>\n",
       "    </tr>\n",
       "    <tr>\n",
       "      <th>2</th>\n",
       "      <td>http://archives.esac.esa.int/ehst-sl-server/se...</td>\n",
       "      <td>http://archives.esac.esa.int/ehst-sl-server/se...</td>\n",
       "      <td>hst_09598_3a_wfpc2_f656n_pc</td>\n",
       "      <td>266.276156</td>\n",
       "      <td>-28.943571</td>\n",
       "      <td>EARTH-CALIB</td>\n",
       "      <td>WFPC2</td>\n",
       "      <td>HLA</td>\n",
       "      <td>F656N</td>\n",
       "      <td>2003-03-13 21:16:17.11</td>\n",
       "      <td>0.7</td>\n",
       "      <td>POLYGON J2000 266.267831000000001 -28.95085500...</td>\n",
       "      <td>2003-03-13 21:18:17.47</td>\n",
       "      <td>hst_09598_3a_wfpc2_f656n_pc</td>\n",
       "    </tr>\n",
       "    <tr>\n",
       "      <th>3</th>\n",
       "      <td>http://archives.esac.esa.int/ehst-sl-server/se...</td>\n",
       "      <td>http://archives.esac.esa.int/ehst-sl-server/se...</td>\n",
       "      <td>hst_09244_9m_wfpc2_f606w_pc</td>\n",
       "      <td>266.279368</td>\n",
       "      <td>-28.944208</td>\n",
       "      <td>ANY</td>\n",
       "      <td>WFPC2</td>\n",
       "      <td>HLA</td>\n",
       "      <td>F606W</td>\n",
       "      <td>2001-03-22 16:03:14.86</td>\n",
       "      <td>2500.0</td>\n",
       "      <td>POLYGON J2000 266.279143999999917 -28.95116100...</td>\n",
       "      <td>2001-03-22 16:47:14.86</td>\n",
       "      <td>hst_09244_9m_wfpc2_f606w_pc</td>\n",
       "    </tr>\n",
       "    <tr>\n",
       "      <th>4</th>\n",
       "      <td>http://archives.esac.esa.int/ehst-sl-server/se...</td>\n",
       "      <td>http://archives.esac.esa.int/ehst-sl-server/se...</td>\n",
       "      <td>hst_07909_rb_wfpc2_f606w_wf</td>\n",
       "      <td>266.265018</td>\n",
       "      <td>-28.941840</td>\n",
       "      <td>ANY</td>\n",
       "      <td>WFPC2</td>\n",
       "      <td>HLA</td>\n",
       "      <td>F606W</td>\n",
       "      <td>1998-08-13 11:59:14.11</td>\n",
       "      <td>2200.0</td>\n",
       "      <td>POLYGON J2000 266.269665999999972 -28.97094800...</td>\n",
       "      <td>1998-08-13 12:38:14.11</td>\n",
       "      <td>hst_07909_rb_wfpc2_f606w_wf</td>\n",
       "    </tr>\n",
       "  </tbody>\n",
       "</table>\n",
       "</div>"
      ],
      "text/plain": [
       "                                        postcard_url  \\\n",
       "0  http://archives.esac.esa.int/ehst-sl-server/se...   \n",
       "1  http://archives.esac.esa.int/ehst-sl-server/se...   \n",
       "2  http://archives.esac.esa.int/ehst-sl-server/se...   \n",
       "3  http://archives.esac.esa.int/ehst-sl-server/se...   \n",
       "4  http://archives.esac.esa.int/ehst-sl-server/se...   \n",
       "\n",
       "                                         product_url  \\\n",
       "0  http://archives.esac.esa.int/ehst-sl-server/se...   \n",
       "1  http://archives.esac.esa.int/ehst-sl-server/se...   \n",
       "2  http://archives.esac.esa.int/ehst-sl-server/se...   \n",
       "3  http://archives.esac.esa.int/ehst-sl-server/se...   \n",
       "4  http://archives.esac.esa.int/ehst-sl-server/se...   \n",
       "\n",
       "                observation_id      ra_deg    dec_deg  target_name  \\\n",
       "0  hst_07909_rb_wfpc2_f606w_pc  266.275245 -28.941184          ANY   \n",
       "1  hst_09676_x8_wfpc2_f606w_pc  266.275913 -28.944096          ANY   \n",
       "2  hst_09598_3a_wfpc2_f656n_pc  266.276156 -28.943571  EARTH-CALIB   \n",
       "3  hst_09244_9m_wfpc2_f606w_pc  266.279368 -28.944208          ANY   \n",
       "4  hst_07909_rb_wfpc2_f606w_wf  266.265018 -28.941840          ANY   \n",
       "\n",
       "  instrument_name collection filter              start_time  \\\n",
       "0           WFPC2        HLA  F606W  1998-08-13 11:59:14.11   \n",
       "1           WFPC2        HLA  F606W  2003-03-13 20:26:17.25   \n",
       "2           WFPC2        HLA  F656N  2003-03-13 21:16:17.11   \n",
       "3           WFPC2        HLA  F606W  2001-03-22 16:03:14.86   \n",
       "4           WFPC2        HLA  F606W  1998-08-13 11:59:14.11   \n",
       "\n",
       "   exposure_duration                                              stc_s  \\\n",
       "0             2200.0  POLYGON J2000 266.275620000000004 -28.94818200...   \n",
       "1             1100.0  POLYGON J2000 266.27582799999999 -28.951051000...   \n",
       "2                0.7  POLYGON J2000 266.267831000000001 -28.95085500...   \n",
       "3             2500.0  POLYGON J2000 266.279143999999917 -28.95116100...   \n",
       "4             2200.0  POLYGON J2000 266.269665999999972 -28.97094800...   \n",
       "\n",
       "                 end_time              observation_oid  \n",
       "0  1998-08-13 12:38:14.11  hst_07909_rb_wfpc2_f606w_pc  \n",
       "1  2003-03-13 20:47:17.24  hst_09676_x8_wfpc2_f606w_pc  \n",
       "2  2003-03-13 21:18:17.47  hst_09598_3a_wfpc2_f656n_pc  \n",
       "3  2001-03-22 16:47:14.86  hst_09244_9m_wfpc2_f606w_pc  \n",
       "4  1998-08-13 12:38:14.11  hst_07909_rb_wfpc2_f606w_wf  "
      ]
     },
     "execution_count": 6,
     "metadata": {},
     "output_type": "execute_result"
    }
   ],
   "source": [
    "result.head()"
   ]
  },
  {
   "cell_type": "markdown",
   "id": "8d0d3020",
   "metadata": {},
   "source": [
    "# Dropping irrelevant columns and encoding categorical columns"
   ]
  },
  {
   "cell_type": "code",
   "execution_count": 7,
   "id": "689e2cc0",
   "metadata": {},
   "outputs": [],
   "source": [
    "# We drop irrelavant columns \n",
    "result.drop(['product_url'],axis=1, inplace=True)\n",
    "result.drop(['postcard_url'], axis=1, inplace=True)\n",
    "result.drop(['observation_id'], axis=1, inplace=True)"
   ]
  },
  {
   "cell_type": "code",
   "execution_count": 8,
   "id": "de9840e4",
   "metadata": {},
   "outputs": [],
   "source": [
    "# we use label encoding\n",
    "\n",
    "# Import label encoder\n",
    "from sklearn import preprocessing\n",
    " \n",
    "# label_encoder object knows how to understand word labels.\n",
    "label_encoder = preprocessing.LabelEncoder()\n",
    " \n",
    "# Encode labels in column instrument_name\tcollection\tfilter\t.\n",
    "result['target_name']= label_encoder.fit_transform(result['target_name'])\n",
    "result['instrument_name']= label_encoder.fit_transform(result['instrument_name'])\n",
    "result['collection']= label_encoder.fit_transform(result['collection'])\n",
    "result['filter']= label_encoder.fit_transform(result['filter'])\n",
    "result['observation_oid']= label_encoder.fit_transform(result['observation_oid'])\n",
    "result['stc_s']= label_encoder.fit_transform(result['stc_s'])"
   ]
  },
  {
   "cell_type": "markdown",
   "id": "997d1af1",
   "metadata": {},
   "source": [
    "# Checking time difference between space event start and end date and the avarage time difference"
   ]
  },
  {
   "cell_type": "code",
   "execution_count": 9,
   "id": "366ccdf9",
   "metadata": {},
   "outputs": [],
   "source": [
    "result['start_time'] = pd.to_datetime(result['start_time'])\n",
    "result['end_time'] = pd.to_datetime(result['end_time'])"
   ]
  },
  {
   "cell_type": "code",
   "execution_count": 10,
   "id": "acbc4a59",
   "metadata": {},
   "outputs": [
    {
     "data": {
      "text/plain": [
       "-0.2897385185185185"
      ]
     },
     "execution_count": 10,
     "metadata": {},
     "output_type": "execute_result"
    }
   ],
   "source": [
    "# we now calculate the average difference between Order_Purchased and Recieved_by_customer\n",
    "timediff = result['start_time'] - result['end_time']\n",
    "timediff.apply(lambda x: (x.total_seconds())/3600).mean()"
   ]
  },
  {
   "cell_type": "code",
   "execution_count": 11,
   "id": "56d8f256",
   "metadata": {},
   "outputs": [],
   "source": [
    "result['time_diff'] = timediff.apply(lambda x: (x.total_seconds())/3600)"
   ]
  },
  {
   "cell_type": "code",
   "execution_count": 12,
   "id": "923b218e",
   "metadata": {},
   "outputs": [
    {
     "data": {
      "text/html": [
       "<div>\n",
       "<style scoped>\n",
       "    .dataframe tbody tr th:only-of-type {\n",
       "        vertical-align: middle;\n",
       "    }\n",
       "\n",
       "    .dataframe tbody tr th {\n",
       "        vertical-align: top;\n",
       "    }\n",
       "\n",
       "    .dataframe thead th {\n",
       "        text-align: right;\n",
       "    }\n",
       "</style>\n",
       "<table border=\"1\" class=\"dataframe\">\n",
       "  <thead>\n",
       "    <tr style=\"text-align: right;\">\n",
       "      <th></th>\n",
       "      <th>ra_deg</th>\n",
       "      <th>dec_deg</th>\n",
       "      <th>target_name</th>\n",
       "      <th>instrument_name</th>\n",
       "      <th>collection</th>\n",
       "      <th>filter</th>\n",
       "      <th>start_time</th>\n",
       "      <th>exposure_duration</th>\n",
       "      <th>stc_s</th>\n",
       "      <th>end_time</th>\n",
       "      <th>observation_oid</th>\n",
       "      <th>time_diff</th>\n",
       "    </tr>\n",
       "  </thead>\n",
       "  <tbody>\n",
       "    <tr>\n",
       "      <th>0</th>\n",
       "      <td>266.275245</td>\n",
       "      <td>-28.941184</td>\n",
       "      <td>0</td>\n",
       "      <td>4</td>\n",
       "      <td>0</td>\n",
       "      <td>6</td>\n",
       "      <td>1998-08-13 11:59:14.110</td>\n",
       "      <td>2200.0</td>\n",
       "      <td>20</td>\n",
       "      <td>1998-08-13 12:38:14.110</td>\n",
       "      <td>2</td>\n",
       "      <td>-0.650000</td>\n",
       "    </tr>\n",
       "    <tr>\n",
       "      <th>1</th>\n",
       "      <td>266.275913</td>\n",
       "      <td>-28.944096</td>\n",
       "      <td>0</td>\n",
       "      <td>4</td>\n",
       "      <td>0</td>\n",
       "      <td>6</td>\n",
       "      <td>2003-03-13 20:26:17.250</td>\n",
       "      <td>1100.0</td>\n",
       "      <td>21</td>\n",
       "      <td>2003-03-13 20:47:17.240</td>\n",
       "      <td>7</td>\n",
       "      <td>-0.349997</td>\n",
       "    </tr>\n",
       "    <tr>\n",
       "      <th>2</th>\n",
       "      <td>266.276156</td>\n",
       "      <td>-28.943571</td>\n",
       "      <td>1</td>\n",
       "      <td>4</td>\n",
       "      <td>0</td>\n",
       "      <td>7</td>\n",
       "      <td>2003-03-13 21:16:17.110</td>\n",
       "      <td>0.7</td>\n",
       "      <td>18</td>\n",
       "      <td>2003-03-13 21:18:17.470</td>\n",
       "      <td>6</td>\n",
       "      <td>-0.033433</td>\n",
       "    </tr>\n",
       "    <tr>\n",
       "      <th>3</th>\n",
       "      <td>266.279368</td>\n",
       "      <td>-28.944208</td>\n",
       "      <td>0</td>\n",
       "      <td>4</td>\n",
       "      <td>0</td>\n",
       "      <td>6</td>\n",
       "      <td>2001-03-22 16:03:14.860</td>\n",
       "      <td>2500.0</td>\n",
       "      <td>22</td>\n",
       "      <td>2001-03-22 16:47:14.860</td>\n",
       "      <td>5</td>\n",
       "      <td>-0.733333</td>\n",
       "    </tr>\n",
       "    <tr>\n",
       "      <th>4</th>\n",
       "      <td>266.265018</td>\n",
       "      <td>-28.941840</td>\n",
       "      <td>0</td>\n",
       "      <td>4</td>\n",
       "      <td>0</td>\n",
       "      <td>6</td>\n",
       "      <td>1998-08-13 11:59:14.110</td>\n",
       "      <td>2200.0</td>\n",
       "      <td>19</td>\n",
       "      <td>1998-08-13 12:38:14.110</td>\n",
       "      <td>3</td>\n",
       "      <td>-0.650000</td>\n",
       "    </tr>\n",
       "  </tbody>\n",
       "</table>\n",
       "</div>"
      ],
      "text/plain": [
       "       ra_deg    dec_deg  target_name  instrument_name  collection  filter  \\\n",
       "0  266.275245 -28.941184            0                4           0       6   \n",
       "1  266.275913 -28.944096            0                4           0       6   \n",
       "2  266.276156 -28.943571            1                4           0       7   \n",
       "3  266.279368 -28.944208            0                4           0       6   \n",
       "4  266.265018 -28.941840            0                4           0       6   \n",
       "\n",
       "               start_time  exposure_duration  stc_s                end_time  \\\n",
       "0 1998-08-13 11:59:14.110             2200.0     20 1998-08-13 12:38:14.110   \n",
       "1 2003-03-13 20:26:17.250             1100.0     21 2003-03-13 20:47:17.240   \n",
       "2 2003-03-13 21:16:17.110                0.7     18 2003-03-13 21:18:17.470   \n",
       "3 2001-03-22 16:03:14.860             2500.0     22 2001-03-22 16:47:14.860   \n",
       "4 1998-08-13 11:59:14.110             2200.0     19 1998-08-13 12:38:14.110   \n",
       "\n",
       "   observation_oid  time_diff  \n",
       "0                2  -0.650000  \n",
       "1                7  -0.349997  \n",
       "2                6  -0.033433  \n",
       "3                5  -0.733333  \n",
       "4                3  -0.650000  "
      ]
     },
     "execution_count": 12,
     "metadata": {},
     "output_type": "execute_result"
    }
   ],
   "source": [
    "# checking summry of data after transformations\n",
    "result.head()"
   ]
  },
  {
   "cell_type": "markdown",
   "id": "686c961e",
   "metadata": {},
   "source": [
    "# EDA"
   ]
  },
  {
   "cell_type": "code",
   "execution_count": 14,
   "id": "90ee0975",
   "metadata": {},
   "outputs": [
    {
     "data": {
      "image/png": "[encoded data removed]",
      "text/plain": [
       "<Figure size 432x288 with 1 Axes>"
      ]
     },
     "metadata": {
      "needs_background": "light"
     },
     "output_type": "display_data"
    }
   ],
   "source": [
    "# USING BARPLOT WITH SEABORN LIBRARY,it also shows errors calulcated throughits error bars here \n",
    "import seaborn as sns\n",
    "ax = sns.barplot(x = 'collection', y = 'filter', errcolor='w', capsize=0.2, data=result)"
   ]
  },
  {
   "cell_type": "markdown",
   "id": "d5cd737b",
   "metadata": {},
   "source": [
    "Most filters lie in the collection - 1, Implying most observations(1) were done due to using increasing filters on advanced telescopy"
   ]
  },
  {
   "cell_type": "markdown",
   "id": "8c43ae83",
   "metadata": {},
   "source": [
    "# Model Building - nueral network regression"
   ]
  },
  {
   "cell_type": "code",
   "execution_count": 15,
   "id": "029fb549",
   "metadata": {},
   "outputs": [],
   "source": [
    "# we drop the start and end time as we now have the time difference \n",
    "result.drop(['end_time'],axis=1, inplace=True)\n",
    "result.drop(['start_time'], axis=1, inplace=True)"
   ]
  },
  {
   "cell_type": "code",
   "execution_count": 16,
   "id": "12c0e646",
   "metadata": {},
   "outputs": [
    {
     "data": {
      "text/html": [
       "<div>\n",
       "<style scoped>\n",
       "    .dataframe tbody tr th:only-of-type {\n",
       "        vertical-align: middle;\n",
       "    }\n",
       "\n",
       "    .dataframe tbody tr th {\n",
       "        vertical-align: top;\n",
       "    }\n",
       "\n",
       "    .dataframe thead th {\n",
       "        text-align: right;\n",
       "    }\n",
       "</style>\n",
       "<table border=\"1\" class=\"dataframe\">\n",
       "  <thead>\n",
       "    <tr style=\"text-align: right;\">\n",
       "      <th></th>\n",
       "      <th>ra_deg</th>\n",
       "      <th>dec_deg</th>\n",
       "      <th>target_name</th>\n",
       "      <th>instrument_name</th>\n",
       "      <th>collection</th>\n",
       "      <th>filter</th>\n",
       "      <th>exposure_duration</th>\n",
       "      <th>stc_s</th>\n",
       "      <th>observation_oid</th>\n",
       "      <th>time_diff</th>\n",
       "    </tr>\n",
       "  </thead>\n",
       "  <tbody>\n",
       "    <tr>\n",
       "      <th>count</th>\n",
       "      <td>30.000000</td>\n",
       "      <td>30.000000</td>\n",
       "      <td>30.00000</td>\n",
       "      <td>30.000000</td>\n",
       "      <td>30.000000</td>\n",
       "      <td>30.00000</td>\n",
       "      <td>30.000000</td>\n",
       "      <td>30.000000</td>\n",
       "      <td>30.000000</td>\n",
       "      <td>30.000000</td>\n",
       "    </tr>\n",
       "    <tr>\n",
       "      <th>mean</th>\n",
       "      <td>221.663403</td>\n",
       "      <td>-4.357071</td>\n",
       "      <td>4.20000</td>\n",
       "      <td>3.166667</td>\n",
       "      <td>0.666667</td>\n",
       "      <td>5.90000</td>\n",
       "      <td>683.104539</td>\n",
       "      <td>13.300000</td>\n",
       "      <td>13.500000</td>\n",
       "      <td>-0.289739</td>\n",
       "    </tr>\n",
       "    <tr>\n",
       "      <th>std</th>\n",
       "      <td>33.605821</td>\n",
       "      <td>36.204346</td>\n",
       "      <td>3.08947</td>\n",
       "      <td>1.533158</td>\n",
       "      <td>0.479463</td>\n",
       "      <td>3.02119</td>\n",
       "      <td>1106.133889</td>\n",
       "      <td>7.575596</td>\n",
       "      <td>7.833394</td>\n",
       "      <td>0.493145</td>\n",
       "    </tr>\n",
       "    <tr>\n",
       "      <th>min</th>\n",
       "      <td>189.995831</td>\n",
       "      <td>-43.039392</td>\n",
       "      <td>0.00000</td>\n",
       "      <td>0.000000</td>\n",
       "      <td>0.000000</td>\n",
       "      <td>0.00000</td>\n",
       "      <td>0.700000</td>\n",
       "      <td>0.000000</td>\n",
       "      <td>0.000000</td>\n",
       "      <td>-2.333333</td>\n",
       "    </tr>\n",
       "    <tr>\n",
       "      <th>25%</th>\n",
       "      <td>192.835112</td>\n",
       "      <td>-28.944180</td>\n",
       "      <td>2.00000</td>\n",
       "      <td>2.250000</td>\n",
       "      <td>0.000000</td>\n",
       "      <td>4.00000</td>\n",
       "      <td>2.700000</td>\n",
       "      <td>7.250000</td>\n",
       "      <td>7.250000</td>\n",
       "      <td>-0.345536</td>\n",
       "    </tr>\n",
       "    <tr>\n",
       "      <th>50%</th>\n",
       "      <td>207.945344</td>\n",
       "      <td>-11.623059</td>\n",
       "      <td>3.00000</td>\n",
       "      <td>3.000000</td>\n",
       "      <td>1.000000</td>\n",
       "      <td>6.00000</td>\n",
       "      <td>230.000000</td>\n",
       "      <td>14.500000</td>\n",
       "      <td>14.000000</td>\n",
       "      <td>-0.078389</td>\n",
       "    </tr>\n",
       "    <tr>\n",
       "      <th>75%</th>\n",
       "      <td>266.272688</td>\n",
       "      <td>25.136762</td>\n",
       "      <td>6.75000</td>\n",
       "      <td>4.000000</td>\n",
       "      <td>1.000000</td>\n",
       "      <td>9.00000</td>\n",
       "      <td>1001.500000</td>\n",
       "      <td>18.750000</td>\n",
       "      <td>19.750000</td>\n",
       "      <td>-0.049074</td>\n",
       "    </tr>\n",
       "    <tr>\n",
       "      <th>max</th>\n",
       "      <td>275.488488</td>\n",
       "      <td>64.343397</td>\n",
       "      <td>9.00000</td>\n",
       "      <td>6.000000</td>\n",
       "      <td>1.000000</td>\n",
       "      <td>9.00000</td>\n",
       "      <td>5000.000000</td>\n",
       "      <td>26.000000</td>\n",
       "      <td>26.000000</td>\n",
       "      <td>-0.002778</td>\n",
       "    </tr>\n",
       "  </tbody>\n",
       "</table>\n",
       "</div>"
      ],
      "text/plain": [
       "           ra_deg    dec_deg  target_name  instrument_name  collection  \\\n",
       "count   30.000000  30.000000     30.00000        30.000000   30.000000   \n",
       "mean   221.663403  -4.357071      4.20000         3.166667    0.666667   \n",
       "std     33.605821  36.204346      3.08947         1.533158    0.479463   \n",
       "min    189.995831 -43.039392      0.00000         0.000000    0.000000   \n",
       "25%    192.835112 -28.944180      2.00000         2.250000    0.000000   \n",
       "50%    207.945344 -11.623059      3.00000         3.000000    1.000000   \n",
       "75%    266.272688  25.136762      6.75000         4.000000    1.000000   \n",
       "max    275.488488  64.343397      9.00000         6.000000    1.000000   \n",
       "\n",
       "         filter  exposure_duration      stc_s  observation_oid  time_diff  \n",
       "count  30.00000          30.000000  30.000000        30.000000  30.000000  \n",
       "mean    5.90000         683.104539  13.300000        13.500000  -0.289739  \n",
       "std     3.02119        1106.133889   7.575596         7.833394   0.493145  \n",
       "min     0.00000           0.700000   0.000000         0.000000  -2.333333  \n",
       "25%     4.00000           2.700000   7.250000         7.250000  -0.345536  \n",
       "50%     6.00000         230.000000  14.500000        14.000000  -0.078389  \n",
       "75%     9.00000        1001.500000  18.750000        19.750000  -0.049074  \n",
       "max     9.00000        5000.000000  26.000000        26.000000  -0.002778  "
      ]
     },
     "execution_count": 16,
     "metadata": {},
     "output_type": "execute_result"
    }
   ],
   "source": [
    "# we check the statistical summary\n",
    "result.describe()"
   ]
  },
  {
   "cell_type": "code",
   "execution_count": 17,
   "id": "b5ecee79",
   "metadata": {},
   "outputs": [
    {
     "data": {
      "text/plain": [
       "<AxesSubplot:>"
      ]
     },
     "execution_count": 17,
     "metadata": {},
     "output_type": "execute_result"
    },
    {
     "data": {
      "image/png": "[encoded data removed]",
      "text/plain": [
       "<Figure size 432x288 with 2 Axes>"
      ]
     },
     "metadata": {
      "needs_background": "light"
     },
     "output_type": "display_data"
    }
   ],
   "source": [
    "sns.heatmap(result.corr())"
   ]
  },
  {
   "cell_type": "markdown",
   "id": "c3b6e5bb",
   "metadata": {},
   "source": [
    "# we can see that correlations between variables are relatively strong in crossing 0.25 on average"
   ]
  },
  {
   "cell_type": "code",
   "execution_count": 18,
   "id": "a68c071d",
   "metadata": {},
   "outputs": [],
   "source": [
    "import numpy as np\n",
    "from keras.models import Sequential\n",
    "from keras.layers import Dense\n",
    "from keras.layers import LSTM\n",
    "from sklearn.preprocessing import MinMaxScaler\n",
    "from sklearn.metrics import mean_squared_error\n",
    "from keras.layers.core import Dense, Activation, Dropout\n",
    "from tensorflow.keras.optimizers import SGD\n",
    "import time #helper libraries"
   ]
  },
  {
   "cell_type": "code",
   "execution_count": 19,
   "id": "8e845bdb",
   "metadata": {},
   "outputs": [],
   "source": [
    "import math\n",
    "import pandas as pd\n",
    "import tensorflow as tf\n",
    "import matplotlib.pyplot as plt\n",
    "from tensorflow.keras import Model\n",
    "from tensorflow.keras import Sequential\n",
    "from tensorflow.keras.optimizers import Adam\n",
    "from sklearn.preprocessing import StandardScaler\n",
    "from tensorflow.keras.layers import Dense, Dropout\n",
    "from sklearn.model_selection import train_test_split\n",
    "from tensorflow.keras.losses import MeanSquaredLogarithmicError\n",
    "from sklearn.metrics import r2_score"
   ]
  },
  {
   "cell_type": "code",
   "execution_count": 86,
   "id": "ac76307d",
   "metadata": {},
   "outputs": [],
   "source": [
    "from sklearn.model_selection import train_test_split\n",
    "# create dataset\n",
    "X = result.drop(['target_name'], axis=1)\n",
    "y = result['target_name']\n",
    "# split into train test sets\n",
    "X_train, X_test, y_train, y_test = train_test_split(X, y, test_size=0.20)"
   ]
  },
  {
   "cell_type": "code",
   "execution_count": 87,
   "id": "226da9b3",
   "metadata": {},
   "outputs": [
    {
     "data": {
      "text/plain": [
       "((24, 9), (24,))"
      ]
     },
     "execution_count": 87,
     "metadata": {},
     "output_type": "execute_result"
    }
   ],
   "source": [
    "X_train.shape, y_train.shape"
   ]
  },
  {
   "cell_type": "code",
   "execution_count": 88,
   "id": "dd92cc16",
   "metadata": {},
   "outputs": [],
   "source": [
    "from sklearn.preprocessing import MinMaxScaler\n",
    "scaler = MinMaxScaler()"
   ]
  },
  {
   "cell_type": "code",
   "execution_count": 89,
   "id": "20397d3b",
   "metadata": {},
   "outputs": [],
   "source": [
    "X_train= scaler.fit_transform(X_train)\n",
    "X_test = scaler.transform(X_test)"
   ]
  },
  {
   "cell_type": "code",
   "execution_count": 90,
   "id": "6860cf8a",
   "metadata": {},
   "outputs": [
    {
     "data": {
      "text/plain": [
       "((24, 9), (24,))"
      ]
     },
     "execution_count": 90,
     "metadata": {},
     "output_type": "execute_result"
    }
   ],
   "source": [
    "X_train.shape, y_train.shape"
   ]
  },
  {
   "cell_type": "code",
   "execution_count": 91,
   "id": "76fbd6bd",
   "metadata": {},
   "outputs": [],
   "source": [
    "hidden_units1 = 160\n",
    "hidden_units2 = 480\n",
    "hidden_units3 = 256\n",
    "learning_rate = 0.01\n",
    "# Creating model using the Sequential in tensorflow\n",
    "def build_model_using_sequential():\n",
    "    model = Sequential([\n",
    "    Dense(hidden_units1, kernel_initializer='normal', activation='relu'),\n",
    "    Dropout(0.2),\n",
    "    Dense(hidden_units2, kernel_initializer='normal', activation='relu'),\n",
    "    Dropout(0.2),\n",
    "    Dense(hidden_units3, kernel_initializer='normal', activation='relu'),\n",
    "    Dense(1, kernel_initializer='normal', activation='linear')\n",
    "  ])\n",
    "    return model"
   ]
  },
  {
   "cell_type": "code",
   "execution_count": 92,
   "id": "b5cc9514",
   "metadata": {},
   "outputs": [],
   "source": [
    "#build the model: \n",
    "model = build_model_using_sequential()"
   ]
  },
  {
   "cell_type": "code",
   "execution_count": 93,
   "id": "65bd30a6",
   "metadata": {},
   "outputs": [],
   "source": [
    "# loss function\n",
    "msle = MeanSquaredLogarithmicError()\n",
    "model.compile(\n",
    "    loss=msle, \n",
    "    optimizer=Adam(learning_rate=learning_rate), \n",
    "    metrics=[msle]\n",
    ")"
   ]
  },
  {
   "cell_type": "code",
   "execution_count": 94,
   "id": "72e85ff1",
   "metadata": {},
   "outputs": [
    {
     "name": "stdout",
     "output_type": "stream",
     "text": [
      "Epoch 1/20\n",
      "1/1 [==============================] - 1s 611ms/step - loss: 2.6703 - mean_squared_logarithmic_error: 2.6703 - val_loss: 1.0955 - val_mean_squared_logarithmic_error: 1.0955\n",
      "Epoch 2/20\n",
      "1/1 [==============================] - 0s 57ms/step - loss: 1.5439 - mean_squared_logarithmic_error: 1.5439 - val_loss: 0.0769 - val_mean_squared_logarithmic_error: 0.0769\n",
      "Epoch 3/20\n",
      "1/1 [==============================] - 0s 38ms/step - loss: 0.6108 - mean_squared_logarithmic_error: 0.6108 - val_loss: 0.3889 - val_mean_squared_logarithmic_error: 0.3889\n",
      "Epoch 4/20\n",
      "1/1 [==============================] - 0s 35ms/step - loss: 1.0284 - mean_squared_logarithmic_error: 1.0284 - val_loss: 0.3017 - val_mean_squared_logarithmic_error: 0.3017\n",
      "Epoch 5/20\n",
      "1/1 [==============================] - 0s 21ms/step - loss: 0.8054 - mean_squared_logarithmic_error: 0.8054 - val_loss: 0.0842 - val_mean_squared_logarithmic_error: 0.0842\n",
      "Epoch 6/20\n",
      "1/1 [==============================] - 0s 34ms/step - loss: 0.4390 - mean_squared_logarithmic_error: 0.4390 - val_loss: 0.1174 - val_mean_squared_logarithmic_error: 0.1174\n",
      "Epoch 7/20\n",
      "1/1 [==============================] - 0s 29ms/step - loss: 0.4612 - mean_squared_logarithmic_error: 0.4612 - val_loss: 0.1449 - val_mean_squared_logarithmic_error: 0.1449\n",
      "Epoch 8/20\n",
      "1/1 [==============================] - 0s 32ms/step - loss: 0.4837 - mean_squared_logarithmic_error: 0.4837 - val_loss: 0.0915 - val_mean_squared_logarithmic_error: 0.0915\n",
      "Epoch 9/20\n",
      "1/1 [==============================] - 0s 41ms/step - loss: 0.2951 - mean_squared_logarithmic_error: 0.2951 - val_loss: 0.1564 - val_mean_squared_logarithmic_error: 0.1564\n",
      "Epoch 10/20\n",
      "1/1 [==============================] - 0s 39ms/step - loss: 0.2324 - mean_squared_logarithmic_error: 0.2324 - val_loss: 0.3371 - val_mean_squared_logarithmic_error: 0.3371\n",
      "Epoch 11/20\n",
      "1/1 [==============================] - 0s 33ms/step - loss: 0.3031 - mean_squared_logarithmic_error: 0.3031 - val_loss: 0.4514 - val_mean_squared_logarithmic_error: 0.4514\n",
      "Epoch 12/20\n",
      "1/1 [==============================] - 0s 30ms/step - loss: 0.2373 - mean_squared_logarithmic_error: 0.2373 - val_loss: 0.4626 - val_mean_squared_logarithmic_error: 0.4626\n",
      "Epoch 13/20\n",
      "1/1 [==============================] - 0s 43ms/step - loss: 0.2210 - mean_squared_logarithmic_error: 0.2210 - val_loss: 0.4010 - val_mean_squared_logarithmic_error: 0.4010\n",
      "Epoch 14/20\n",
      "1/1 [==============================] - 0s 35ms/step - loss: 0.1808 - mean_squared_logarithmic_error: 0.1808 - val_loss: 0.3169 - val_mean_squared_logarithmic_error: 0.3169\n",
      "Epoch 15/20\n",
      "1/1 [==============================] - 0s 43ms/step - loss: 0.1429 - mean_squared_logarithmic_error: 0.1429 - val_loss: 0.2414 - val_mean_squared_logarithmic_error: 0.2414\n",
      "Epoch 16/20\n",
      "1/1 [==============================] - 0s 43ms/step - loss: 0.2169 - mean_squared_logarithmic_error: 0.2169 - val_loss: 0.2353 - val_mean_squared_logarithmic_error: 0.2353\n",
      "Epoch 17/20\n",
      "1/1 [==============================] - 0s 37ms/step - loss: 0.1541 - mean_squared_logarithmic_error: 0.1541 - val_loss: 0.2735 - val_mean_squared_logarithmic_error: 0.2735\n",
      "Epoch 18/20\n",
      "1/1 [==============================] - 0s 46ms/step - loss: 0.1447 - mean_squared_logarithmic_error: 0.1447 - val_loss: 0.3374 - val_mean_squared_logarithmic_error: 0.3374\n",
      "Epoch 19/20\n",
      "1/1 [==============================] - 0s 42ms/step - loss: 0.1446 - mean_squared_logarithmic_error: 0.1446 - val_loss: 0.3780 - val_mean_squared_logarithmic_error: 0.3780\n",
      "Epoch 20/20\n",
      "1/1 [==============================] - 0s 29ms/step - loss: 0.1285 - mean_squared_logarithmic_error: 0.1285 - val_loss: 0.3690 - val_mean_squared_logarithmic_error: 0.3690\n"
     ]
    }
   ],
   "source": [
    "# train the model\n",
    "history = model.fit(\n",
    "    X_train, \n",
    "    y_train, \n",
    "    epochs=20, \n",
    "    batch_size=64,\n",
    "    validation_split=0.2\n",
    ")"
   ]
  },
  {
   "cell_type": "markdown",
   "id": "d2fe605f",
   "metadata": {},
   "source": [
    "# We can see that as epochs increases the loss decreases"
   ]
  },
  {
   "cell_type": "code",
   "execution_count": 95,
   "id": "66ad6cf1",
   "metadata": {},
   "outputs": [
    {
     "data": {
      "image/png": "[encoded data removed]",
      "text/plain": [
       "<Figure size 432x288 with 1 Axes>"
      ]
     },
     "metadata": {
      "needs_background": "light"
     },
     "output_type": "display_data"
    }
   ],
   "source": [
    "def plot_history(history, key):\n",
    "    plt.plot(history.history[key])\n",
    "    plt.plot(history.history['val_'+key])\n",
    "    plt.xlabel(\"Epochs\")\n",
    "    plt.ylabel(key)\n",
    "    plt.legend([key, 'val_'+key])\n",
    "    plt.show()\n",
    "# Plot the history\n",
    "plot_history(history, 'mean_squared_logarithmic_error')"
   ]
  },
  {
   "cell_type": "code",
   "execution_count": 96,
   "id": "1a8218e0",
   "metadata": {},
   "outputs": [],
   "source": [
    "predictions = model.predict(X_test)"
   ]
  },
  {
   "cell_type": "code",
   "execution_count": 97,
   "id": "ec3db5dc",
   "metadata": {},
   "outputs": [
    {
     "data": {
      "text/plain": [
       "((6, 1), (6,))"
      ]
     },
     "execution_count": 97,
     "metadata": {},
     "output_type": "execute_result"
    }
   ],
   "source": [
    "predictions.shape, y_test.shape"
   ]
  },
  {
   "cell_type": "code",
   "execution_count": 101,
   "id": "457b6092",
   "metadata": {},
   "outputs": [],
   "source": [
    "from sklearn.metrics import mean_squared_error,mean_absolute_error,explained_variance_score"
   ]
  },
  {
   "cell_type": "code",
   "execution_count": 103,
   "id": "c5cc4b26",
   "metadata": {},
   "outputs": [
    {
     "name": "stdout",
     "output_type": "stream",
     "text": [
      "The Mean Absolute Error :  2.2496266762415567\n"
     ]
    }
   ],
   "source": [
    "print(\"The Mean Absolute Error : \", mean_absolute_error(y_test,predictions))"
   ]
  },
  {
   "cell_type": "code",
   "execution_count": 104,
   "id": "a1f12a19",
   "metadata": {},
   "outputs": [
    {
     "name": "stdout",
     "output_type": "stream",
     "text": [
      "The Root Mean Squared Error :  2.5912824423686738\n"
     ]
    }
   ],
   "source": [
    "print(\"The Root Mean Squared Error : \",np.sqrt(mean_squared_error(y_test,predictions)))"
   ]
  },
  {
   "cell_type": "code",
   "execution_count": null,
   "id": "e2aec35a",
   "metadata": {},
   "outputs": [],
   "source": []
  }
 ],
 "metadata": {
  "kernelspec": {
   "display_name": "Python 3 (ipykernel)",
   "language": "python",
   "name": "python3"
  },
  "language_info": {
   "codemirror_mode": {
    "name": "ipython",
    "version": 3
   },
   "file_extension": ".py",
   "mimetype": "text/x-python",
   "name": "python",
   "nbconvert_exporter": "python",
   "pygments_lexer": "ipython3",
   "version": "3.9.7"
  }
 },
 "nbformat": 4,
 "nbformat_minor": 5
}
